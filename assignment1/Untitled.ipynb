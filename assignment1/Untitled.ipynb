{
 "cells": [
  {
   "cell_type": "code",
   "execution_count": 4,
   "metadata": {
    "collapsed": false
   },
   "outputs": [
    {
     "name": "stdout",
     "output_type": "stream",
     "text": [
      "Running basic tests...\r\n",
      "[ 0.26894142  0.73105858]\r\n",
      "[[ 0.26894142  0.73105858]\r\n",
      " [ 0.26894142  0.73105858]]\r\n",
      "[[ 0.73105858  0.26894142]]\r\n",
      "You should be able to verify these results by hand!\r\n",
      "\r\n",
      "Running your tests...\r\n",
      "Traceback (most recent call last):\r\n",
      "  File \"q1_softmax.py\", line 91, in <module>\r\n",
      "    test_softmax()\r\n",
      "  File \"q1_softmax.py\", line 85, in test_softmax\r\n",
      "    raise NotImplementedError\r\n",
      "NotImplementedError\r\n"
     ]
    }
   ],
   "source": [
    "!python q1_softmax.py"
   ]
  },
  {
   "cell_type": "code",
   "execution_count": 12,
   "metadata": {
    "collapsed": false
   },
   "outputs": [
    {
     "data": {
      "text/plain": [
       "array([3, 6])"
      ]
     },
     "execution_count": 12,
     "metadata": {},
     "output_type": "execute_result"
    }
   ],
   "source": [
    "import numpy as np \n",
    "np.max([[1,2,3],[4,5,6]], axis=1)"
   ]
  },
  {
   "cell_type": "code",
   "execution_count": 7,
   "metadata": {
    "collapsed": false
   },
   "outputs": [
    {
     "name": "stdout",
     "output_type": "stream",
     "text": [
      "Running basic tests...\r\n",
      "[[ 0.73105858  0.88079708]\r\n",
      " [ 0.26894142  0.11920292]]\r\n",
      "[[ 0.19661193  0.10499359]\r\n",
      " [ 0.19661193  0.10499359]]\r\n",
      "You should verify these results by hand!\r\n",
      "\r\n",
      "Running your tests...\r\n",
      "Traceback (most recent call last):\r\n",
      "  File \"q2_sigmoid.py\", line 81, in <module>\r\n",
      "    test_sigmoid()\r\n",
      "  File \"q2_sigmoid.py\", line 75, in test_sigmoid\r\n",
      "    raise NotImplementedError\r\n",
      "NotImplementedError\r\n"
     ]
    }
   ],
   "source": [
    "!python q2_sigmoid.py"
   ]
  },
  {
   "cell_type": "code",
   "execution_count": 19,
   "metadata": {
    "collapsed": false
   },
   "outputs": [
    {
     "name": "stdout",
     "output_type": "stream",
     "text": [
      "Running sanity checks...\r\n",
      "Gradient check passed!\r\n",
      "Gradient check passed!\r\n",
      "Gradient check passed!\r\n",
      "\r\n",
      "Running your sanity checks...\r\n",
      "Traceback (most recent call last):\r\n",
      "  File \"q2_gradcheck.py\", line 87, in <module>\r\n",
      "    your_sanity_checks()\r\n",
      "  File \"q2_gradcheck.py\", line 81, in your_sanity_checks\r\n",
      "    raise NotImplementedError\r\n",
      "NotImplementedError\r\n"
     ]
    }
   ],
   "source": [
    "!python q2_gradcheck.py"
   ]
  },
  {
   "cell_type": "code",
   "execution_count": 22,
   "metadata": {
    "collapsed": false
   },
   "outputs": [
    {
     "data": {
      "text/plain": [
       "array([2, 6])"
      ]
     },
     "execution_count": 22,
     "metadata": {},
     "output_type": "execute_result"
    }
   ],
   "source": [
    "import numpy as np\n",
    "x = np.array([[1,2,3],[4,5,6]])\n",
    "x[np.arange(2),[1,2]]"
   ]
  },
  {
   "cell_type": "code",
   "execution_count": 27,
   "metadata": {
    "collapsed": false
   },
   "outputs": [
    {
     "name": "stdout",
     "output_type": "stream",
     "text": [
      "Running sanity check...\n",
      "Gradient check passed!\n",
      "Running your sanity checks...\n",
      "Traceback (most recent call last):\n",
      "  File \"q2_neural.py\", line 117, in <module>\n",
      "    your_sanity_checks()\n",
      "  File \"q2_neural.py\", line 111, in your_sanity_checks\n",
      "    raise NotImplementedError\n",
      "NotImplementedError\n"
     ]
    }
   ],
   "source": [
    "!python q2_neural.py"
   ]
  },
  {
   "cell_type": "code",
   "execution_count": 42,
   "metadata": {
    "collapsed": false
   },
   "outputs": [
    {
     "data": {
      "text/plain": [
       "2.3025850929940455"
      ]
     },
     "execution_count": 42,
     "metadata": {},
     "output_type": "execute_result"
    }
   ],
   "source": [
    "- np.log(0.1)"
   ]
  },
  {
   "cell_type": "code",
   "execution_count": 72,
   "metadata": {
    "collapsed": false
   },
   "outputs": [
    {
     "name": "stdout",
     "output_type": "stream",
     "text": [
      "Testing normalizeRows...\n",
      "[[ 0.6         0.8       ]\n",
      " [ 0.4472136   0.89442719]]\n",
      "\n",
      "==== Gradient check for skip-gram ====\n",
      "Gradient check passed!\n",
      "Gradient check passed!\n",
      "\n",
      "==== Gradient check for CBOW      ====\n",
      "Gradient check passed!\n",
      "Gradient check passed!\n",
      "\n",
      "=== Results ===\n",
      "(11.166109001533981, array([[ 0.        ,  0.        ,  0.        ],\n",
      "       [ 0.        ,  0.        ,  0.        ],\n",
      "       [-1.26947339, -1.36873189,  2.45158957],\n",
      "       [ 0.        ,  0.        ,  0.        ],\n",
      "       [ 0.        ,  0.        ,  0.        ]]), array([[-0.41045956,  0.18834851,  1.43272264],\n",
      "       [ 0.38202831, -0.17530219, -1.33348241],\n",
      "       [ 0.07009355, -0.03216399, -0.24466386],\n",
      "       [ 0.09472154, -0.04346509, -0.33062865],\n",
      "       [-0.13638384,  0.06258276,  0.47605228]]))\n",
      "(13.959405258751875, array([[ 0.        ,  0.        ,  0.        ],\n",
      "       [ 0.        ,  0.        ,  0.        ],\n",
      "       [-4.12113804, -1.67347865, -1.5049951 ],\n",
      "       [ 0.        ,  0.        ,  0.        ],\n",
      "       [ 0.        ,  0.        ,  0.        ]]), array([[-0.49853822,  0.22876535,  1.74016407],\n",
      "       [-0.02700439,  0.01239157,  0.09425972],\n",
      "       [-0.68292656,  0.31337605,  2.38377767],\n",
      "       [-0.84273629,  0.3867083 ,  2.94159878],\n",
      "       [-0.16124059,  0.07398883,  0.5628156 ]]))\n",
      "(0.79899580109066504, array([[ 0.23330542, -0.51643128, -0.8281311 ],\n",
      "       [ 0.11665271, -0.25821564, -0.41406555],\n",
      "       [ 0.11665271, -0.25821564, -0.41406555],\n",
      "       [ 0.        ,  0.        ,  0.        ],\n",
      "       [ 0.        ,  0.        ,  0.        ]]), array([[ 0.80954933,  0.21962514, -0.54095764],\n",
      "       [-0.03556575, -0.00964874,  0.02376577],\n",
      "       [-0.13016109, -0.0353118 ,  0.08697634],\n",
      "       [-0.1650812 , -0.04478539,  0.11031068],\n",
      "       [-0.47874129, -0.1298792 ,  0.31990485]]))\n",
      "(7.7630889928618743, array([[-3.24112111, -1.89068433, -2.69507064],\n",
      "       [-1.62056055, -0.94534217, -1.34753532],\n",
      "       [-1.62056055, -0.94534217, -1.34753532],\n",
      "       [ 0.        ,  0.        ,  0.        ],\n",
      "       [ 0.        ,  0.        ,  0.        ]]), array([[ 0.21992784,  0.0596649 , -0.14696034],\n",
      "       [-1.37825047, -0.37390982,  0.92097553],\n",
      "       [-1.55404334, -0.42160121,  1.03844397],\n",
      "       [-1.72636934, -0.46835207,  1.15359577],\n",
      "       [-2.36749007, -0.64228369,  1.58200593]]))\n"
     ]
    }
   ],
   "source": [
    "!python q3_word2vec.py"
   ]
  },
  {
   "cell_type": "code",
   "execution_count": 6,
   "metadata": {
    "collapsed": false
   },
   "outputs": [
    {
     "name": "stdout",
     "output_type": "stream",
     "text": [
      "0.363127654452\n"
     ]
    }
   ],
   "source": [
    "import numpy as np \n",
    "print -3./7 * np.log(3./7)"
   ]
  },
  {
   "cell_type": "code",
   "execution_count": 24,
   "metadata": {
    "collapsed": false
   },
   "outputs": [
    {
     "name": "stdout",
     "output_type": "stream",
     "text": [
      "0.73105857863\n",
      "0.26894142137\n",
      "1.0\n"
     ]
    }
   ],
   "source": [
    "from q2_sigmoid import sigmoid, sigmoid_grad\n",
    "print sigmoid(1)\n",
    "print sigmoid(-1)\n",
    "print sigmoid(1) + sigmoid(-1)"
   ]
  },
  {
   "cell_type": "code",
   "execution_count": 3,
   "metadata": {
    "collapsed": false
   },
   "outputs": [
    {
     "name": "stdout",
     "output_type": "stream",
     "text": [
      "Running sanity checks...\r\n",
      "iter 100: 0.004578\r\n",
      "iter 200: 0.004353\r\n",
      "iter 300: 0.004136\r\n",
      "iter 400: 0.003929\r\n",
      "iter 500: 0.003733\r\n",
      "iter 600: 0.003546\r\n",
      "iter 700: 0.003369\r\n",
      "iter 800: 0.003200\r\n",
      "iter 900: 0.003040\r\n",
      "iter 1000: 0.002888\r\n",
      "test 1 result: 8.41483678608e-10\r\n",
      "iter 100: 0.000000\r\n",
      "iter 200: 0.000000\r\n",
      "iter 300: 0.000000\r\n",
      "iter 400: 0.000000\r\n",
      "iter 500: 0.000000\r\n",
      "iter 600: 0.000000\r\n",
      "iter 700: 0.000000\r\n",
      "iter 800: 0.000000\r\n",
      "iter 900: 0.000000\r\n",
      "iter 1000: 0.000000\r\n",
      "test 2 result: 0.0\r\n",
      "iter 100: 0.041205\r\n",
      "iter 200: 0.039181\r\n",
      "iter 300: 0.037222\r\n",
      "iter 400: 0.035361\r\n",
      "iter 500: 0.033593\r\n",
      "iter 600: 0.031913\r\n",
      "iter 700: 0.030318\r\n",
      "iter 800: 0.028802\r\n",
      "iter 900: 0.027362\r\n",
      "iter 1000: 0.025994\r\n",
      "test 3 result: -2.52445103582e-09\r\n",
      "\r\n",
      "Running your sanity checks...\r\n",
      "Traceback (most recent call last):\r\n",
      "  File \"q3_sgd.py\", line 143, in <module>\r\n",
      "    your_sanity_checks()\r\n",
      "  File \"q3_sgd.py\", line 137, in your_sanity_checks\r\n",
      "    raise NotImplementedError\r\n",
      "NotImplementedError\r\n"
     ]
    }
   ],
   "source": [
    "!python q3_sgd.py"
   ]
  },
  {
   "cell_type": "code",
   "execution_count": null,
   "metadata": {
    "collapsed": true
   },
   "outputs": [],
   "source": []
  }
 ],
 "metadata": {
  "kernelspec": {
   "display_name": "Python 2",
   "language": "python",
   "name": "python2"
  },
  "language_info": {
   "codemirror_mode": {
    "name": "ipython",
    "version": 2
   },
   "file_extension": ".py",
   "mimetype": "text/x-python",
   "name": "python",
   "nbconvert_exporter": "python",
   "pygments_lexer": "ipython2",
   "version": "2.7.13"
  }
 },
 "nbformat": 4,
 "nbformat_minor": 0
}
